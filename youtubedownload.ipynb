{
  "nbformat": 4,
  "nbformat_minor": 0,
  "metadata": {
    "colab": {
      "provenance": [],
      "include_colab_link": true
    },
    "kernelspec": {
      "name": "python3",
      "display_name": "Python 3"
    },
    "language_info": {
      "name": "python"
    }
  },
  "cells": [
    {
      "cell_type": "markdown",
      "metadata": {
        "id": "view-in-github",
        "colab_type": "text"
      },
      "source": [
        "<a href=\"https://colab.research.google.com/github/computerfever/testing/blob/main/youtubedownload.ipynb\" target=\"_parent\"><img src=\"https://colab.research.google.com/assets/colab-badge.svg\" alt=\"Open In Colab\"/></a>"
      ]
    },
    {
      "cell_type": "code",
      "execution_count": null,
      "metadata": {
        "colab": {
          "base_uri": "https://localhost:8080/"
        },
        "id": "0bhT-VS4vgd2",
        "outputId": "dc64cf06-12d5-47a3-e9f9-c593fae4a280"
      },
      "outputs": [
        {
          "output_type": "stream",
          "name": "stdout",
          "text": [
            "Requirement already satisfied: youtube-transcript-api in /usr/local/lib/python3.10/dist-packages (0.6.1)\n",
            "Requirement already satisfied: requests in /usr/local/lib/python3.10/dist-packages (from youtube-transcript-api) (2.31.0)\n",
            "Requirement already satisfied: charset-normalizer<4,>=2 in /usr/local/lib/python3.10/dist-packages (from requests->youtube-transcript-api) (3.3.0)\n",
            "Requirement already satisfied: idna<4,>=2.5 in /usr/local/lib/python3.10/dist-packages (from requests->youtube-transcript-api) (3.4)\n",
            "Requirement already satisfied: urllib3<3,>=1.21.1 in /usr/local/lib/python3.10/dist-packages (from requests->youtube-transcript-api) (2.0.7)\n",
            "Requirement already satisfied: certifi>=2017.4.17 in /usr/local/lib/python3.10/dist-packages (from requests->youtube-transcript-api) (2023.7.22)\n"
          ]
        }
      ],
      "source": [
        "\n",
        "pip install youtube-transcript-api\n"
      ]
    },
    {
      "cell_type": "code",
      "source": [
        "pip install pytube"
      ],
      "metadata": {
        "colab": {
          "base_uri": "https://localhost:8080/"
        },
        "id": "w9JdORcriB9h",
        "outputId": "fb2377e6-037b-4ee9-b7ef-e60b191a8e16"
      },
      "execution_count": null,
      "outputs": [
        {
          "output_type": "stream",
          "name": "stdout",
          "text": [
            "Requirement already satisfied: pytube in /usr/local/lib/python3.10/dist-packages (15.0.0)\n"
          ]
        }
      ]
    },
    {
      "cell_type": "code",
      "source": [
        "\n",
        "#  URL of the YouTube video you want to download\n",
        "video_url = \"https://www.youtube.com/watch?v=BplmzLIdGFg\"\n",
        "from pytube import YouTube\n",
        "from youtube_transcript_api import YouTubeTranscriptApi\n",
        "\n",
        "\n",
        "\n",
        "try:\n",
        "    # Create a YouTube object\n",
        "    yt = YouTube(video_url)\n",
        "\n",
        "    # Get the highest resolution stream\n",
        "    video_stream = yt.streams.get_highest_resolution()\n",
        "\n",
        "    # Download the video\n",
        "    video_stream.download()\n",
        "\n",
        "    # Get the video ID from the URL\n",
        "    video_id = video_url.split(\"v=\")[1]\n",
        "\n",
        "    # Get the video transcript\n",
        "    transcripts = YouTubeTranscriptApi.get_transcript(video_id)\n",
        "\n",
        "    if transcripts:\n",
        "        # Extract the transcripts as text\n",
        "        subtitle_text = \" \".join([entry[\"text\"] for entry in transcripts])\n",
        "\n",
        "        print(\"Transcripts:\")\n",
        "        print(subtitle_text)\n",
        "    else:\n",
        "        print(\"Transcripts not available for this video.\")\n",
        "\n",
        "except Exception as e:\n",
        "    print(f\"An error occurred: {str(e)}\")\n",
        "\n",
        "\n"
      ],
      "metadata": {
        "colab": {
          "base_uri": "https://localhost:8080/"
        },
        "id": "FEPfAPu-vkth",
        "outputId": "296b576c-74c6-4c0c-f805-6b7e04c95ad0"
      },
      "execution_count": null,
      "outputs": [
        {
          "output_type": "stream",
          "name": "stdout",
          "text": [
            "Transcripts:\n",
            "hello guys welcome back to the channel today I'm going to give you four interesting ways you could showcase your data analyst projects some of them are unconventional but this could actually help you get your first job call let's start with the first method you could use a tool like medium write a blog about some topic you learned here's an example we see about someone writing on SQL window functions and give an introduction write some syntax give some examples maybe take a few case study questions solve them by sharing knowledge showing your explanation in a written format this can definitely help recruiters get convinced about your profile this is one way the second way is by building visually appealing dashboards could take a tool like Tableau or power ba or even Luca Studio they even have some pre-defined templates you could use some of them and build a dashboard for a particular company or for a particular use case and display that on your profile this can add value and maybe help you get that interview call the third method again a little bit unconventional is use a tool like Loom or something do a screen recording explain a concept this could be an SQL query this could be a python code or it could be a walkthrough of your dashboard use a tool like Loom show your face and explain this will help the recruiter understand how you deal with explaining and communicating your results with stakeholders and can definitely give you an edge as well finally beyond all these three methods one great way to become a data analyst or crack that first data analyst job is once you've finished learning the tools just go and start a YouTube channel or something like that as you see I personally started teaching people out of just interest sharing knowledge on whatever I know initially you could do the same right even if you learned basic SQL you could put a few videos or organize a simple free webinar for people on LinkedIn teach them whatever you know and add value to the community this is a great way to get recruiters notice as well because you're taking the initiative to teach and Mentor people Beyond just learning it yourself right this is another method which can be really useful so as you see there are four methods if you're interested in learning about data analytics tools just go to my YouTube channel playlist as you see I have a complete bootcamp playlist which I added about a week ago I have all the videos related to excel SQL python power B projects case scenario questions CV preparation LinkedIn and so on go through the playlist and I'm sure in 90 days to 120 days you transform yourself and definitely be on the way to become a successful data analyst I hope you enjoyed this video I'll see you again in another video till then bye\n"
          ]
        }
      ]
    },
    {
      "cell_type": "code",
      "source": [],
      "metadata": {
        "id": "2XSk8Q80vk0q"
      },
      "execution_count": null,
      "outputs": []
    }
  ]
}